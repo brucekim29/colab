{
  "cells": [
    {
      "cell_type": "markdown",
      "metadata": {
        "id": "view-in-github",
        "colab_type": "text"
      },
      "source": [
        "<a href=\"https://colab.research.google.com/github/brucekim29/colab/blob/main/221007_18%EC%9E%A5RNN.ipynb\" target=\"_parent\"><img src=\"https://colab.research.google.com/assets/colab-badge.svg\" alt=\"Open In Colab\"/></a>"
      ]
    },
    {
      "cell_type": "markdown",
      "metadata": {
        "id": "_n0D0jc2P5TW"
      },
      "source": [
        "### 18-1 LSTM 이용 뉴스 카테고리 분류\n",
        "\n",
        "\n",
        " * np.max() 함수로 y_train 의 종류 구하니 46개 카테고리로 구분되어 있음을 할수있다.(0부터 세기떄문에 1을 더해서 출력해야함)"
      ]
    },
    {
      "cell_type": "code",
      "execution_count": null,
      "metadata": {
        "id": "eXvttqLb1Smq"
      },
      "outputs": [],
      "source": [
        "from tensorflow.keras.datasets import reuters, imdb\n",
        "from tensorflow.keras.models import Sequential\n",
        "from tensorflow.keras.layers import Dense, LSTM, Embedding, Dropout, Activation, MaxPooling1D, Conv1D\n",
        "from tensorflow.keras.utils import to_categorical\n",
        "from tensorflow.keras.preprocessing import sequence\n",
        "from tensorflow.keras.callbacks import EarlyStopping\n",
        "\n",
        "import numpy as np\n",
        "import matplotlib.pyplot as plt"
      ]
    },
    {
      "cell_type": "code",
      "execution_count": null,
      "metadata": {
        "id": "9DtkS6PXIj-Q"
      },
      "outputs": [],
      "source": []
    },
    {
      "cell_type": "code",
      "execution_count": null,
      "metadata": {
        "colab": {
          "base_uri": "https://localhost:8080/"
        },
        "id": "kAH6km4WVPcg",
        "outputId": "dd1c2bca-062c-487d-a02c-9d877b609b92"
      },
      "outputs": [
        {
          "name": "stdout",
          "output_type": "stream",
          "text": [
            "Downloading data from https://storage.googleapis.com/tensorflow/tf-keras-datasets/reuters.npz\n",
            "2113536/2110848 [==============================] - 0s 0us/step\n",
            "2121728/2110848 [==============================] - 0s 0us/step\n"
          ]
        }
      ],
      "source": [
        "(x_train, y_train) , (x_test, y_test) = reuters.load_data(num_words=1000, test_split=0.2)"
      ]
    },
    {
      "cell_type": "code",
      "execution_count": null,
      "metadata": {
        "colab": {
          "base_uri": "https://localhost:8080/"
        },
        "id": "hKTz5AvRVg2-",
        "outputId": "ac4bc943-d4f9-4154-9209-40d61335cbdc"
      },
      "outputs": [
        {
          "name": "stdout",
          "output_type": "stream",
          "text": [
            "46 카테고리\n",
            "8982 학습용 뉴스기사\n",
            "2246 테스트용 뉴스기사\n",
            "[1, 2, 2, 8, 43, 10, 447, 5, 25, 207, 270, 5, 2, 111, 16, 369, 186, 90, 67, 7, 89, 5, 19, 102, 6, 19, 124, 15, 90, 67, 84, 22, 482, 26, 7, 48, 4, 49, 8, 864, 39, 209, 154, 6, 151, 6, 83, 11, 15, 22, 155, 11, 15, 7, 48, 9, 2, 2, 504, 6, 258, 6, 272, 11, 15, 22, 134, 44, 11, 15, 16, 8, 197, 2, 90, 67, 52, 29, 209, 30, 32, 132, 6, 109, 15, 17, 12]\n"
          ]
        }
      ],
      "source": [
        "# 불러온 데이터 확인\n",
        "\n",
        "category = np.max(y_train) + 1  # 카테고리 구분을 위해서 불러노는데 인덱스의 수는 0부터 세기때문에 1을 더해서 출력 한다.\n",
        "print(category, '카테고리')\n",
        "print(len(x_train), '학습용 뉴스기사')\n",
        "print(len(x_test), '테스트용 뉴스기사')\n",
        "print(x_train[0])"
      ]
    },
    {
      "cell_type": "code",
      "execution_count": null,
      "metadata": {
        "id": "EnpA82X-V26z"
      },
      "outputs": [],
      "source": [
        "# 단어의 수를 맞춰준다.\n",
        "\n",
        "x_train = sequence.pad_sequences(x_train, maxlen=100) # 단어의 수를 100으로 맞춰달라는 입력. \n",
        "\n",
        "x_test = sequence.pad_sequences(x_test, maxlen=100) # 기사 단어의 수가 100보다 크면 100개째 단어만 선탣후 나머지 버림,\n",
        "# 100미만 모자라면 0으로 채운다."
      ]
    },
    {
      "cell_type": "code",
      "execution_count": null,
      "metadata": {
        "id": "1dxcekeVVCwz"
      },
      "outputs": [],
      "source": [
        "# 원 - 핫 인코딩 처리를 진행\n",
        "y_train = to_categorical(y_train)\n",
        "y_test = to_categorical(y_test)"
      ]
    },
    {
      "cell_type": "code",
      "execution_count": null,
      "metadata": {
        "colab": {
          "base_uri": "https://localhost:8080/"
        },
        "id": "hFNt9ihoXGLx",
        "outputId": "2a70a0d6-d655-4bfb-a538-7af4ad5f9b83"
      },
      "outputs": [
        {
          "name": "stdout",
          "output_type": "stream",
          "text": [
            "Model: \"sequential\"\n",
            "_________________________________________________________________\n",
            " Layer (type)                Output Shape              Param #   \n",
            "=================================================================\n",
            " embedding (Embedding)       (None, None, 100)         100000    \n",
            "                                                                 \n",
            " lstm (LSTM)                 (None, 100)               80400     \n",
            "                                                                 \n",
            " dense (Dense)               (None, 46)                4646      \n",
            "                                                                 \n",
            "=================================================================\n",
            "Total params: 185,046\n",
            "Trainable params: 185,046\n",
            "Non-trainable params: 0\n",
            "_________________________________________________________________\n"
          ]
        }
      ],
      "source": [
        "#모델의 구조를 성정해주는 섹션\n",
        "model = Sequential()\n",
        "#embedding 층을 새로 추가/  Embedding('불러온 단어의 총수' , '기사당 단어 수') gudtlr\n",
        "model.add(Embedding(1000, 100)) # 1000개의 word count 를 받아서 100개로 변경\n",
        "model.add(LSTM(100, activation='tanh'))\n",
        "\n",
        "model.add(Dense(46, activation='softmax'))\n",
        "\n",
        "model.summary()"
      ]
    },
    {
      "cell_type": "code",
      "execution_count": null,
      "metadata": {
        "id": "6dFR2hKZX-UR"
      },
      "outputs": [],
      "source": [
        "model.compile(loss = 'categorical_crossentropy', optimizer='adam', metrics=['accuracy'])"
      ]
    },
    {
      "cell_type": "code",
      "execution_count": null,
      "metadata": {
        "id": "bMcFiQCOYXOt"
      },
      "outputs": [],
      "source": [
        "esc = EarlyStopping(monitor='val_loss', patience=5)"
      ]
    },
    {
      "cell_type": "code",
      "execution_count": null,
      "metadata": {
        "colab": {
          "base_uri": "https://localhost:8080/"
        },
        "id": "WWx6IfQEYhBp",
        "outputId": "49a42703-ab55-4c50-fa46-f55ff7636047"
      },
      "outputs": [
        {
          "name": "stdout",
          "output_type": "stream",
          "text": [
            "Epoch 1/200\n",
            "450/450 [==============================] - 14s 12ms/step - loss: 2.2347 - accuracy: 0.4326 - val_loss: 1.8605 - val_accuracy: 0.5356\n",
            "Epoch 2/200\n",
            "450/450 [==============================] - 5s 12ms/step - loss: 1.8330 - accuracy: 0.5295 - val_loss: 2.0598 - val_accuracy: 0.4817\n",
            "Epoch 3/200\n",
            "450/450 [==============================] - 5s 10ms/step - loss: 1.7170 - accuracy: 0.5615 - val_loss: 1.6834 - val_accuracy: 0.5690\n",
            "Epoch 4/200\n",
            "450/450 [==============================] - 4s 10ms/step - loss: 1.5605 - accuracy: 0.6001 - val_loss: 1.5453 - val_accuracy: 0.6069\n",
            "Epoch 5/200\n",
            "450/450 [==============================] - 4s 10ms/step - loss: 1.4021 - accuracy: 0.6406 - val_loss: 1.4123 - val_accuracy: 0.6371\n",
            "Epoch 6/200\n",
            "450/450 [==============================] - 4s 10ms/step - loss: 1.2376 - accuracy: 0.6830 - val_loss: 1.3112 - val_accuracy: 0.6701\n",
            "Epoch 7/200\n",
            "450/450 [==============================] - 5s 11ms/step - loss: 1.1261 - accuracy: 0.7129 - val_loss: 1.2360 - val_accuracy: 0.6892\n",
            "Epoch 8/200\n",
            "450/450 [==============================] - 5s 11ms/step - loss: 1.0443 - accuracy: 0.7354 - val_loss: 1.2024 - val_accuracy: 0.6888\n",
            "Epoch 9/200\n",
            "450/450 [==============================] - 5s 10ms/step - loss: 0.9689 - accuracy: 0.7555 - val_loss: 1.1660 - val_accuracy: 0.7079\n",
            "Epoch 10/200\n",
            "450/450 [==============================] - 5s 10ms/step - loss: 0.8980 - accuracy: 0.7723 - val_loss: 1.1652 - val_accuracy: 0.7119\n",
            "Epoch 11/200\n",
            "450/450 [==============================] - 5s 11ms/step - loss: 0.8352 - accuracy: 0.7926 - val_loss: 1.1356 - val_accuracy: 0.7204\n",
            "Epoch 12/200\n",
            "450/450 [==============================] - 5s 11ms/step - loss: 0.7671 - accuracy: 0.8081 - val_loss: 1.1426 - val_accuracy: 0.7142\n",
            "Epoch 13/200\n",
            "450/450 [==============================] - 5s 11ms/step - loss: 0.7156 - accuracy: 0.8219 - val_loss: 1.1553 - val_accuracy: 0.7244\n",
            "Epoch 14/200\n",
            "450/450 [==============================] - 5s 10ms/step - loss: 0.6709 - accuracy: 0.8333 - val_loss: 1.1711 - val_accuracy: 0.7173\n",
            "Epoch 15/200\n",
            "450/450 [==============================] - 5s 10ms/step - loss: 0.6111 - accuracy: 0.8460 - val_loss: 1.2182 - val_accuracy: 0.7244\n",
            "Epoch 16/200\n",
            "450/450 [==============================] - 5s 10ms/step - loss: 0.5691 - accuracy: 0.8602 - val_loss: 1.2055 - val_accuracy: 0.7195\n"
          ]
        }
      ],
      "source": [
        "history = model.fit(x_train, y_train, batch_size=20, epochs=200, validation_data=(x_test, y_test), callbacks=[esc])"
      ]
    },
    {
      "cell_type": "code",
      "execution_count": null,
      "metadata": {
        "colab": {
          "base_uri": "https://localhost:8080/"
        },
        "id": "GAl_7fKrYvU_",
        "outputId": "17313038-763a-4c6d-e01e-66e445999c45"
      },
      "outputs": [
        {
          "name": "stdout",
          "output_type": "stream",
          "text": [
            "71/71 [==============================] - 0s 5ms/step - loss: 1.2055 - accuracy: 0.7195\n",
            "\n",
            " Test Acuuracy: 0.7195\n"
          ]
        }
      ],
      "source": [
        "print(\"\\n Test Acuuracy: %.4f\" %(model.evaluate(x_test, y_test)[1]))"
      ]
    },
    {
      "cell_type": "code",
      "execution_count": null,
      "metadata": {
        "id": "6qx0QSxLZjTn"
      },
      "outputs": [],
      "source": [
        "y_vloss = history.history['val_loss']\n",
        "y_loss = history.history['loss']\n"
      ]
    },
    {
      "cell_type": "code",
      "execution_count": null,
      "metadata": {
        "colab": {
          "base_uri": "https://localhost:8080/",
          "height": 279
        },
        "id": "4vJ6cE0HZu8h",
        "outputId": "facdd3b5-fc71-4561-94a6-2fc5d0c71070"
      },
      "outputs": [
        {
          "data": {
            "image/png": "[encoded data removed]",
            "text/plain": [
              "<Figure size 432x288 with 1 Axes>"
            ]
          },
          "metadata": {},
          "output_type": "display_data"
        }
      ],
      "source": [
        "x_len = np.arange(len(y_loss))\n",
        "plt.plot(x_len, y_vloss, marker='.', c='red', label='Testset_loss')\n",
        "plt.plot(x_len, y_loss, marker='.', c='blue', label='Trainset_loss')\n",
        "\n",
        "plt.legend(loc='upper right')\n",
        "plt.grid()\n",
        "plt.xlabel('epoch')\n",
        "plt.ylabel('loss')\n",
        "plt.show()"
      ]
    },
    {
      "cell_type": "markdown",
      "metadata": {
        "id": "iNX6sy5WdMQw"
      },
      "source": [
        "### LSTM과 CNN 조합하여 영호 리뷰 분류하기\n",
        "\n",
        "\n",
        "* 영화 데이터 베이스 IMDB 영화 관련 정보, 출연진, 개봉일, 영화후기, 평점까지 폭넓게 데이터가 저장된 자료.\n",
        "* 각 단어에 대한 전처리 마친 상태 데이터 셋."
      ]
    },
    {
      "cell_type": "code",
      "execution_count": null,
      "metadata": {
        "colab": {
          "base_uri": "https://localhost:8080/"
        },
        "id": "_-CcDgbgaQML",
        "outputId": "7fd7a2e2-ec7e-47e7-8c08-0fb44009d962"
      },
      "outputs": [
        {
          "name": "stdout",
          "output_type": "stream",
          "text": [
            "Downloading data from https://storage.googleapis.com/tensorflow/tf-keras-datasets/imdb.npz\n",
            "17465344/17464789 [==============================] - 0s 0us/step\n",
            "17473536/17464789 [==============================] - 0s 0us/step\n"
          ]
        }
      ],
      "source": [
        "# 테스트 셋을 지정 한다.\n",
        "\n",
        "(a_train, b_train), (a_test, b_test) = imdb.load_data(num_words=5000)\n",
        "\n",
        "a_train = sequence.pad_sequences(a_train, maxlen=500)\n",
        "a_test = sequence.pad_sequences(a_test, maxlen=500)"
      ]
    },
    {
      "cell_type": "code",
      "execution_count": null,
      "metadata": {
        "colab": {
          "base_uri": "https://localhost:8080/"
        },
        "id": "GGN4ywIJEKzV",
        "outputId": "c0278877-0e88-4dd0-893a-dee396793c64"
      },
      "outputs": [
        {
          "name": "stdout",
          "output_type": "stream",
          "text": [
            "Model: \"sequential\"\n",
            "_________________________________________________________________\n",
            " Layer (type)                Output Shape              Param #   \n",
            "=================================================================\n",
            " embedding (Embedding)       (None, None, 100)         500000    \n",
            "                                                                 \n",
            " dropout (Dropout)           (None, None, 100)         0         \n",
            "                                                                 \n",
            " conv1d (Conv1D)             (None, None, 64)          32064     \n",
            "                                                                 \n",
            " max_pooling1d (MaxPooling1D  (None, None, 64)         0         \n",
            " )                                                               \n",
            "                                                                 \n",
            " lstm (LSTM)                 (None, 55)                26400     \n",
            "                                                                 \n",
            " dense (Dense)               (None, 1)                 56        \n",
            "                                                                 \n",
            " activation (Activation)     (None, 1)                 0         \n",
            "                                                                 \n",
            "=================================================================\n",
            "Total params: 558,520\n",
            "Trainable params: 558,520\n",
            "Non-trainable params: 0\n",
            "_________________________________________________________________\n"
          ]
        }
      ],
      "source": [
        "# 모델의 구조를 설정 해준다.\n",
        "model_2 = Sequential()\n",
        "model_2.add(Embedding(5000, 100))\n",
        "model_2.add(Dropout(0.5))\n",
        "model_2.add(Conv1D(64, 5, padding='valid', activation='relu', strides=1))\n",
        "model_2.add(MaxPooling1D(pool_size=4))\n",
        "model_2.add(LSTM(55))\n",
        "model_2.add(Dense(1))\n",
        "model_2.add(Activation('sigmoid'))\n",
        "model_2.summary()"
      ]
    },
    {
      "cell_type": "code",
      "execution_count": null,
      "metadata": {
        "id": "-IjhnhWdZf0n"
      },
      "outputs": [],
      "source": [
        "model_2.compile(loss='binary_crossentropy', optimizer='adam', metrics=['accuracy'])"
      ]
    },
    {
      "cell_type": "code",
      "execution_count": null,
      "metadata": {
        "colab": {
          "background_save": true,
          "base_uri": "https://localhost:8080/"
        },
        "id": "kYF2AXeBGTxy",
        "outputId": "fe0016fa-92c7-42e1-d881-01abd14c80d2"
      },
      "outputs": [
        {
          "name": "stdout",
          "output_type": "stream",
          "text": [
            "Epoch 1/100\n",
            "469/469 [==============================] - 114s 237ms/step - loss: 0.4071 - accuracy: 0.8035 - val_loss: 0.3126 - val_accuracy: 0.8725\n",
            "Epoch 2/100\n",
            "469/469 [==============================] - 106s 227ms/step - loss: 0.2345 - accuracy: 0.9071 - val_loss: 0.2940 - val_accuracy: 0.8848\n",
            "Epoch 3/100\n",
            "469/469 [==============================] - 105s 224ms/step - loss: 0.1874 - accuracy: 0.9291 - val_loss: 0.3256 - val_accuracy: 0.8670\n",
            "Epoch 4/100\n",
            "469/469 [==============================] - 106s 226ms/step - loss: 0.1456 - accuracy: 0.9461 - val_loss: 0.3167 - val_accuracy: 0.8768\n",
            "Epoch 5/100\n",
            "469/469 [==============================] - 105s 225ms/step - loss: 0.1160 - accuracy: 0.9598 - val_loss: 0.2957 - val_accuracy: 0.8917\n"
          ]
        }
      ],
      "source": [
        "early_sc = EarlyStopping(monitor = 'val_loss', patience=3)\n",
        "\n",
        "history = model_2.fit(a_train, b_train, batch_size = 40, epochs=100, validation_split=0.25, callbacks=[early_sc])"
      ]
    },
    {
      "cell_type": "code",
      "execution_count": null,
      "metadata": {
        "colab": {
          "base_uri": "https://localhost:8080/"
        },
        "id": "o2hP6NK6GuIi",
        "outputId": "85e07853-e1cd-4b17-be27-1b0866dc9a1a"
      },
      "outputs": [
        {
          "name": "stdout",
          "output_type": "stream",
          "text": [
            "782/782 [==============================] - 4s 5ms/step - loss: 0.3611 - accuracy: 0.8738\n",
            "\n",
            " Test Acuuracy: 0.8738\n"
          ]
        }
      ],
      "source": [
        "print(\"\\n Test Acuuracy: %.4f\" % (model_2.evaluate(a_test, b_test)[1]))"
      ]
    },
    {
      "cell_type": "code",
      "execution_count": null,
      "metadata": {
        "colab": {
          "base_uri": "https://localhost:8080/",
          "height": 279
        },
        "id": "Awr3DeI2G7XJ",
        "outputId": "5449acee-0cfd-4a70-e01d-bf3a48a6cce3"
      },
      "outputs": [
        {
          "data": {
            "image/png": "[encoded data removed]",
            "text/plain": [
              "<Figure size 432x288 with 1 Axes>"
            ]
          },
          "metadata": {},
          "output_type": "display_data"
        }
      ],
      "source": [
        "x_vloss = history.history['val_loss']\n",
        "x_loss = history.history['loss']\n",
        "\n",
        "\n",
        "y_len = np.arange(len(x_loss))\n",
        "plt.plot(y_len, x_vloss, marker='.', c='red', label='Testset_loss')\n",
        "plt.plot(y_len, x_loss, marker='.', c='blue', label='Train_loss')\n",
        "\n",
        "\n",
        "plt.legend(loc='upper right')\n",
        "plt.grid()\n",
        "plt.xlabel('epoch')\n",
        "plt.ylabel('loss')\n",
        "plt.show()"
      ]
    },
    {
      "cell_type": "markdown",
      "source": [
        "### 18-3 어텐션 사용한 신경망"
      ],
      "metadata": {
        "id": "tJqb5_idRsgy"
      }
    },
    {
      "cell_type": "code",
      "execution_count": 11,
      "metadata": {
        "id": "P8zJm0NSZcU3",
        "colab": {
          "base_uri": "https://localhost:8080/"
        },
        "outputId": "af6d142d-6bdd-496c-c861-756f3d0dc92b"
      },
      "outputs": [
        {
          "output_type": "stream",
          "name": "stdout",
          "text": [
            "Looking in indexes: https://pypi.org/simple, https://us-python.pkg.dev/colab-wheels/public/simple/\n",
            "Collecting attention\n",
            "  Downloading attention-4.1-py3-none-any.whl (8.6 kB)\n",
            "Requirement already satisfied: numpy>=1.18.1 in /usr/local/lib/python3.7/dist-packages (from attention) (1.21.6)\n",
            "Requirement already satisfied: tensorflow>=2.1 in /usr/local/lib/python3.7/dist-packages (from attention) (2.8.2+zzzcolab20220929150707)\n",
            "Requirement already satisfied: google-pasta>=0.1.1 in /usr/local/lib/python3.7/dist-packages (from tensorflow>=2.1->attention) (0.2.0)\n",
            "Requirement already satisfied: protobuf<3.20,>=3.9.2 in /usr/local/lib/python3.7/dist-packages (from tensorflow>=2.1->attention) (3.17.3)\n",
            "Requirement already satisfied: h5py>=2.9.0 in /usr/local/lib/python3.7/dist-packages (from tensorflow>=2.1->attention) (3.1.0)\n",
            "Requirement already satisfied: keras-preprocessing>=1.1.1 in /usr/local/lib/python3.7/dist-packages (from tensorflow>=2.1->attention) (1.1.2)\n",
            "Requirement already satisfied: tensorboard<2.9,>=2.8 in /usr/local/lib/python3.7/dist-packages (from tensorflow>=2.1->attention) (2.8.0)\n",
            "Requirement already satisfied: gast>=0.2.1 in /usr/local/lib/python3.7/dist-packages (from tensorflow>=2.1->attention) (0.5.3)\n",
            "Requirement already satisfied: absl-py>=0.4.0 in /usr/local/lib/python3.7/dist-packages (from tensorflow>=2.1->attention) (1.2.0)\n",
            "Requirement already satisfied: astunparse>=1.6.0 in /usr/local/lib/python3.7/dist-packages (from tensorflow>=2.1->attention) (1.6.3)\n",
            "Requirement already satisfied: setuptools in /usr/local/lib/python3.7/dist-packages (from tensorflow>=2.1->attention) (57.4.0)\n",
            "Requirement already satisfied: keras<2.9,>=2.8.0rc0 in /usr/local/lib/python3.7/dist-packages (from tensorflow>=2.1->attention) (2.8.0)\n",
            "Requirement already satisfied: flatbuffers>=1.12 in /usr/local/lib/python3.7/dist-packages (from tensorflow>=2.1->attention) (22.9.24)\n",
            "Requirement already satisfied: termcolor>=1.1.0 in /usr/local/lib/python3.7/dist-packages (from tensorflow>=2.1->attention) (2.0.1)\n",
            "Requirement already satisfied: six>=1.12.0 in /usr/local/lib/python3.7/dist-packages (from tensorflow>=2.1->attention) (1.15.0)\n",
            "Requirement already satisfied: tensorflow-io-gcs-filesystem>=0.23.1 in /usr/local/lib/python3.7/dist-packages (from tensorflow>=2.1->attention) (0.27.0)\n",
            "Requirement already satisfied: tensorflow-estimator<2.9,>=2.8 in /usr/local/lib/python3.7/dist-packages (from tensorflow>=2.1->attention) (2.8.0)\n",
            "Requirement already satisfied: libclang>=9.0.1 in /usr/local/lib/python3.7/dist-packages (from tensorflow>=2.1->attention) (14.0.6)\n",
            "Requirement already satisfied: wrapt>=1.11.0 in /usr/local/lib/python3.7/dist-packages (from tensorflow>=2.1->attention) (1.14.1)\n",
            "Requirement already satisfied: opt-einsum>=2.3.2 in /usr/local/lib/python3.7/dist-packages (from tensorflow>=2.1->attention) (3.3.0)\n",
            "Requirement already satisfied: grpcio<2.0,>=1.24.3 in /usr/local/lib/python3.7/dist-packages (from tensorflow>=2.1->attention) (1.49.1)\n",
            "Requirement already satisfied: typing-extensions>=3.6.6 in /usr/local/lib/python3.7/dist-packages (from tensorflow>=2.1->attention) (4.1.1)\n",
            "Requirement already satisfied: wheel<1.0,>=0.23.0 in /usr/local/lib/python3.7/dist-packages (from astunparse>=1.6.0->tensorflow>=2.1->attention) (0.37.1)\n",
            "Requirement already satisfied: cached-property in /usr/local/lib/python3.7/dist-packages (from h5py>=2.9.0->tensorflow>=2.1->attention) (1.5.2)\n",
            "Requirement already satisfied: google-auth<3,>=1.6.3 in /usr/local/lib/python3.7/dist-packages (from tensorboard<2.9,>=2.8->tensorflow>=2.1->attention) (1.35.0)\n",
            "Requirement already satisfied: requests<3,>=2.21.0 in /usr/local/lib/python3.7/dist-packages (from tensorboard<2.9,>=2.8->tensorflow>=2.1->attention) (2.23.0)\n",
            "Requirement already satisfied: google-auth-oauthlib<0.5,>=0.4.1 in /usr/local/lib/python3.7/dist-packages (from tensorboard<2.9,>=2.8->tensorflow>=2.1->attention) (0.4.6)\n",
            "Requirement already satisfied: tensorboard-data-server<0.7.0,>=0.6.0 in /usr/local/lib/python3.7/dist-packages (from tensorboard<2.9,>=2.8->tensorflow>=2.1->attention) (0.6.1)\n",
            "Requirement already satisfied: werkzeug>=0.11.15 in /usr/local/lib/python3.7/dist-packages (from tensorboard<2.9,>=2.8->tensorflow>=2.1->attention) (1.0.1)\n",
            "Requirement already satisfied: tensorboard-plugin-wit>=1.6.0 in /usr/local/lib/python3.7/dist-packages (from tensorboard<2.9,>=2.8->tensorflow>=2.1->attention) (1.8.1)\n",
            "Requirement already satisfied: markdown>=2.6.8 in /usr/local/lib/python3.7/dist-packages (from tensorboard<2.9,>=2.8->tensorflow>=2.1->attention) (3.4.1)\n",
            "Requirement already satisfied: pyasn1-modules>=0.2.1 in /usr/local/lib/python3.7/dist-packages (from google-auth<3,>=1.6.3->tensorboard<2.9,>=2.8->tensorflow>=2.1->attention) (0.2.8)\n",
            "Requirement already satisfied: cachetools<5.0,>=2.0.0 in /usr/local/lib/python3.7/dist-packages (from google-auth<3,>=1.6.3->tensorboard<2.9,>=2.8->tensorflow>=2.1->attention) (4.2.4)\n",
            "Requirement already satisfied: rsa<5,>=3.1.4 in /usr/local/lib/python3.7/dist-packages (from google-auth<3,>=1.6.3->tensorboard<2.9,>=2.8->tensorflow>=2.1->attention) (4.9)\n",
            "Requirement already satisfied: requests-oauthlib>=0.7.0 in /usr/local/lib/python3.7/dist-packages (from google-auth-oauthlib<0.5,>=0.4.1->tensorboard<2.9,>=2.8->tensorflow>=2.1->attention) (1.3.1)\n",
            "Requirement already satisfied: importlib-metadata>=4.4 in /usr/local/lib/python3.7/dist-packages (from markdown>=2.6.8->tensorboard<2.9,>=2.8->tensorflow>=2.1->attention) (5.0.0)\n",
            "Requirement already satisfied: zipp>=0.5 in /usr/local/lib/python3.7/dist-packages (from importlib-metadata>=4.4->markdown>=2.6.8->tensorboard<2.9,>=2.8->tensorflow>=2.1->attention) (3.8.1)\n",
            "Requirement already satisfied: pyasn1<0.5.0,>=0.4.6 in /usr/local/lib/python3.7/dist-packages (from pyasn1-modules>=0.2.1->google-auth<3,>=1.6.3->tensorboard<2.9,>=2.8->tensorflow>=2.1->attention) (0.4.8)\n",
            "Requirement already satisfied: chardet<4,>=3.0.2 in /usr/local/lib/python3.7/dist-packages (from requests<3,>=2.21.0->tensorboard<2.9,>=2.8->tensorflow>=2.1->attention) (3.0.4)\n",
            "Requirement already satisfied: idna<3,>=2.5 in /usr/local/lib/python3.7/dist-packages (from requests<3,>=2.21.0->tensorboard<2.9,>=2.8->tensorflow>=2.1->attention) (2.10)\n",
            "Requirement already satisfied: urllib3!=1.25.0,!=1.25.1,<1.26,>=1.21.1 in /usr/local/lib/python3.7/dist-packages (from requests<3,>=2.21.0->tensorboard<2.9,>=2.8->tensorflow>=2.1->attention) (1.24.3)\n",
            "Requirement already satisfied: certifi>=2017.4.17 in /usr/local/lib/python3.7/dist-packages (from requests<3,>=2.21.0->tensorboard<2.9,>=2.8->tensorflow>=2.1->attention) (2022.9.24)\n",
            "Requirement already satisfied: oauthlib>=3.0.0 in /usr/local/lib/python3.7/dist-packages (from requests-oauthlib>=0.7.0->google-auth-oauthlib<0.5,>=0.4.1->tensorboard<2.9,>=2.8->tensorflow>=2.1->attention) (3.2.1)\n",
            "Installing collected packages: attention\n",
            "Successfully installed attention-4.1\n"
          ]
        }
      ],
      "source": [
        "!pip install attention"
      ]
    },
    {
      "cell_type": "code",
      "source": [
        "from attention import Attention"
      ],
      "metadata": {
        "id": "y7hPXjVqSoc7"
      },
      "execution_count": 15,
      "outputs": []
    },
    {
      "cell_type": "code",
      "source": [
        "model_a = Sequential()\n",
        "model_a.add(Embedding(5000, 1500))\n",
        "model_a.add(Dropout(0.5))\n",
        "model_a.add(LSTM(64, return_sequences=True))\n",
        "model_a.add(Attention())\n",
        "model_a.add(Dropout(0.5))\n",
        "model_a.add(Dense(1))\n",
        "model_a.add(Activation('sigmoid'))\n",
        "model_a.summary()"
      ],
      "metadata": {
        "colab": {
          "base_uri": "https://localhost:8080/"
        },
        "id": "gst6pGUcR6Pa",
        "outputId": "ae27bb7c-4235-40f5-fa6a-b899b44c3fdd"
      },
      "execution_count": 16,
      "outputs": [
        {
          "output_type": "stream",
          "name": "stdout",
          "text": [
            "Model: \"sequential_2\"\n",
            "_________________________________________________________________\n",
            " Layer (type)                Output Shape              Param #   \n",
            "=================================================================\n",
            " embedding_2 (Embedding)     (None, None, 1500)        7500000   \n",
            "                                                                 \n",
            " dropout_2 (Dropout)         (None, None, 1500)        0         \n",
            "                                                                 \n",
            " lstm_2 (LSTM)               (None, None, 64)          400640    \n",
            "                                                                 \n",
            " attention (Attention)       (None, 128)               20480     \n",
            "                                                                 \n",
            " dropout_3 (Dropout)         (None, 128)               0         \n",
            "                                                                 \n",
            " dense_1 (Dense)             (None, 1)                 129       \n",
            "                                                                 \n",
            " activation_1 (Activation)   (None, 1)                 0         \n",
            "                                                                 \n",
            "=================================================================\n",
            "Total params: 7,921,249\n",
            "Trainable params: 7,921,249\n",
            "Non-trainable params: 0\n",
            "_________________________________________________________________\n"
          ]
        }
      ]
    },
    {
      "cell_type": "code",
      "execution_count": 17,
      "metadata": {
        "id": "75yS5105ZSl6"
      },
      "outputs": [],
      "source": [
        "model_a.compile(loss='binary_crossentropy', optimizer='adam', metrics=['accuracy'])"
      ]
    },
    {
      "cell_type": "code",
      "execution_count": 19,
      "metadata": {
        "id": "scAiRAlBQNus",
        "colab": {
          "base_uri": "https://localhost:8080/"
        },
        "outputId": "b4bf1674-3637-4e48-b460-2878951f823a"
      },
      "outputs": [
        {
          "output_type": "stream",
          "name": "stdout",
          "text": [
            "Epoch 1/100\n",
            "625/625 [==============================] - 29s 46ms/step - loss: 0.1875 - accuracy: 0.9274 - val_loss: 0.1206 - val_accuracy: 0.9597\n",
            "Epoch 2/100\n",
            "625/625 [==============================] - 28s 45ms/step - loss: 0.1179 - accuracy: 0.9552 - val_loss: 0.0763 - val_accuracy: 0.9758\n",
            "Epoch 3/100\n",
            "625/625 [==============================] - 27s 44ms/step - loss: 0.0742 - accuracy: 0.9712 - val_loss: 0.0563 - val_accuracy: 0.9819\n",
            "Epoch 4/100\n",
            "625/625 [==============================] - 28s 45ms/step - loss: 0.0487 - accuracy: 0.9824 - val_loss: 0.0210 - val_accuracy: 0.9946\n",
            "Epoch 5/100\n",
            "625/625 [==============================] - 28s 44ms/step - loss: 0.0345 - accuracy: 0.9876 - val_loss: 0.0108 - val_accuracy: 0.9965\n",
            "Epoch 6/100\n",
            "625/625 [==============================] - 27s 44ms/step - loss: 0.0270 - accuracy: 0.9910 - val_loss: 0.0184 - val_accuracy: 0.9933\n",
            "Epoch 7/100\n",
            "625/625 [==============================] - 28s 45ms/step - loss: 0.0202 - accuracy: 0.9934 - val_loss: 0.0115 - val_accuracy: 0.9976\n",
            "Epoch 8/100\n",
            "625/625 [==============================] - 27s 44ms/step - loss: 0.0189 - accuracy: 0.9934 - val_loss: 0.0062 - val_accuracy: 0.9981\n",
            "Epoch 9/100\n",
            "625/625 [==============================] - 28s 44ms/step - loss: 0.0151 - accuracy: 0.9950 - val_loss: 0.0036 - val_accuracy: 0.9986\n",
            "Epoch 10/100\n",
            "625/625 [==============================] - 27s 44ms/step - loss: 0.0116 - accuracy: 0.9960 - val_loss: 0.0085 - val_accuracy: 0.9974\n",
            "Epoch 11/100\n",
            "625/625 [==============================] - 27s 44ms/step - loss: 0.0167 - accuracy: 0.9942 - val_loss: 0.0180 - val_accuracy: 0.9941\n",
            "Epoch 12/100\n",
            "625/625 [==============================] - 27s 44ms/step - loss: 0.0119 - accuracy: 0.9959 - val_loss: 0.0058 - val_accuracy: 0.9979\n"
          ]
        }
      ],
      "source": [
        "# early_sc = EarlyStopping(monitor = 'val_loss', patience=3)\n",
        "\n",
        "history = model_a.fit(a_train, b_train, batch_size = 40, epochs=100, validation_data=(a_test, b_test), callbacks=[early_sc])"
      ]
    },
    {
      "cell_type": "code",
      "source": [
        "print(\"\\n Test Acuuracy: %.4f\" % (model_a.evaluate(a_test, b_test)[1]))"
      ],
      "metadata": {
        "colab": {
          "base_uri": "https://localhost:8080/"
        },
        "id": "N7GpWJ9KTAlg",
        "outputId": "230fb8cc-5c00-4ae4-dd8c-852c0cc8f5aa"
      },
      "execution_count": 20,
      "outputs": [
        {
          "output_type": "stream",
          "name": "stdout",
          "text": [
            "782/782 [==============================] - 10s 12ms/step - loss: 0.7717 - accuracy: 0.8764\n",
            "\n",
            " Test Acuuracy: 0.8764\n"
          ]
        }
      ]
    },
    {
      "cell_type": "code",
      "source": [
        "x_vloss = history.history['val_loss']\n",
        "x_loss = history.history['loss']\n",
        "\n",
        "\n",
        "y_len = np.arange(len(x_loss))\n",
        "plt.plot(y_len, x_vloss, marker='.', c='red', label='Testset_loss')\n",
        "plt.plot(y_len, x_loss, marker='.', c='blue', label='Train_loss')\n",
        "\n",
        "\n",
        "plt.legend(loc='upper right')\n",
        "plt.grid()\n",
        "plt.xlabel('epoch')\n",
        "plt.ylabel('loss')\n",
        "plt.show()"
      ],
      "metadata": {
        "colab": {
          "base_uri": "https://localhost:8080/",
          "height": 279
        },
        "id": "p6JYdAR4TadH",
        "outputId": "a10df38f-a37b-483b-9bd7-ea595ce4e317"
      },
      "execution_count": 21,
      "outputs": [
        {
          "output_type": "display_data",
          "data": {
            "text/plain": [
              "<Figure size 432x288 with 1 Axes>"
            ],
            "image/png": "[encoded data removed]"
          },
          "metadata": {
            "needs_background": "light"
          }
        }
      ]
    }
  ],
  "metadata": {
    "accelerator": "GPU",
    "colab": {
      "provenance": [],
      "authorship_tag": "ABX9TyPs5MKZkL/nwB8w3mP6w9tX",
      "include_colab_link": true
    },
    "kernelspec": {
      "display_name": "Python 3",
      "name": "python3"
    },
    "language_info": {
      "name": "python"
    }
  },
  "nbformat": 4,
  "nbformat_minor": 0
}