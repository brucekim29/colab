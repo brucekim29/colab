{
  "nbformat": 4,
  "nbformat_minor": 0,
  "metadata": {
    "colab": {
      "provenance": [],
      "authorship_tag": "ABX9TyPRFCN8hEBg3asmG5E8zkgo",
      "include_colab_link": true
    },
    "kernelspec": {
      "name": "python3",
      "display_name": "Python 3"
    },
    "language_info": {
      "name": "python"
    },
    "accelerator": "GPU"
  },
  "cells": [
    {
      "cell_type": "markdown",
      "metadata": {
        "id": "view-in-github",
        "colab_type": "text"
      },
      "source": [
        "<a href=\"https://colab.research.google.com/github/brucekim29/colab/blob/main/221012_09_3.ipynb\" target=\"_parent\"><img src=\"https://colab.research.google.com/assets/colab-badge.svg\" alt=\"Open In Colab\"/></a>"
      ]
    },
    {
      "cell_type": "markdown",
      "source": [
        "## 09-3 LSTM 과 GRU셀"
      ],
      "metadata": {
        "id": "HI80IR0hs7gE"
      }
    },
    {
      "cell_type": "code",
      "execution_count": 1,
      "metadata": {
        "colab": {
          "base_uri": "https://localhost:8080/"
        },
        "id": "eW_21zm4s35N",
        "outputId": "1cd85613-18e0-4ba6-e52b-21343082f21e"
      },
      "outputs": [
        {
          "output_type": "stream",
          "name": "stdout",
          "text": [
            "Downloading data from https://storage.googleapis.com/tensorflow/tf-keras-datasets/imdb.npz\n",
            "17465344/17464789 [==============================] - 0s 0us/step\n",
            "17473536/17464789 [==============================] - 0s 0us/step\n"
          ]
        }
      ],
      "source": [
        "from tensorflow.keras.datasets import imdb\n",
        "from sklearn.model_selection import train_test_split\n",
        "(train_input, train_target), (test_input, test_target) = imdb.load_data(num_words=500)\n",
        "train_input, val_input, train_target, val_target = train_test_split(train_input, train_target, test_size=0.2, random_state=42)"
      ]
    },
    {
      "cell_type": "code",
      "source": [
        "from tensorflow.keras.preprocessing.sequence import pad_sequences\n",
        "\n",
        "train_seq = pad_sequences(train_input, maxlen=100)\n",
        "\n",
        "val_seq = pad_sequences(val_input, maxlen=100)"
      ],
      "metadata": {
        "id": "f21iRzjKtoRq"
      },
      "execution_count": 2,
      "outputs": []
    },
    {
      "cell_type": "code",
      "source": [
        "from tensorflow import keras\n",
        "model = keras.Sequential()\n",
        "\n",
        "model.add(keras.layers.Embedding(500, 16, input_length=100))\n",
        "model.add(keras.layers.LSTM(8))\n",
        "model.add(keras.layers.Dense(1, activation='sigmoid'))"
      ],
      "metadata": {
        "id": "62ry3f7_t-Hs"
      },
      "execution_count": 3,
      "outputs": []
    },
    {
      "cell_type": "code",
      "source": [
        "model.summary()"
      ],
      "metadata": {
        "colab": {
          "base_uri": "https://localhost:8080/"
        },
        "id": "34kcDjcPuZa6",
        "outputId": "884bcc01-8090-464a-e0b7-b9df4c9786b7"
      },
      "execution_count": 4,
      "outputs": [
        {
          "output_type": "stream",
          "name": "stdout",
          "text": [
            "Model: \"sequential\"\n",
            "_________________________________________________________________\n",
            " Layer (type)                Output Shape              Param #   \n",
            "=================================================================\n",
            " embedding (Embedding)       (None, 100, 16)           8000      \n",
            "                                                                 \n",
            " lstm (LSTM)                 (None, 8)                 800       \n",
            "                                                                 \n",
            " dense (Dense)               (None, 1)                 9         \n",
            "                                                                 \n",
            "=================================================================\n",
            "Total params: 8,809\n",
            "Trainable params: 8,809\n",
            "Non-trainable params: 0\n",
            "_________________________________________________________________\n"
          ]
        }
      ]
    },
    {
      "cell_type": "code",
      "source": [
        "rmsprop = keras.optimizers.RMSprop(learning_rate=1e-4) # 학습률 0.001 사용하지 않고 별도 객체 만들어 학습률 0.0001을 지정\n",
        "model.compile(optimizer=rmsprop, loss='binary_crossentropy', metrics=['accuracy'])\n",
        "\n",
        "check_p = keras.callbacks.ModelCheckpoint('best-lstm-model.h5', save_best_only=True)\n",
        "early_stop = keras.callbacks.EarlyStopping(patience=3, restore_best_weights=True)\n",
        "history = model.fit(train_seq, train_target, epochs=100, batch_size=64, validation_data=(val_seq, val_target), callbacks=[check_p, early_stop])"
      ],
      "metadata": {
        "colab": {
          "base_uri": "https://localhost:8080/"
        },
        "id": "YPVfU2kHtMTW",
        "outputId": "ff39e105-ba56-44cf-bbd9-96b084f7b0c5"
      },
      "execution_count": 5,
      "outputs": [
        {
          "output_type": "stream",
          "name": "stdout",
          "text": [
            "Epoch 1/100\n",
            "313/313 [==============================] - 11s 10ms/step - loss: 0.6926 - accuracy: 0.5397 - val_loss: 0.6918 - val_accuracy: 0.5916\n",
            "Epoch 2/100\n",
            "313/313 [==============================] - 3s 9ms/step - loss: 0.6908 - accuracy: 0.6029 - val_loss: 0.6894 - val_accuracy: 0.6238\n",
            "Epoch 3/100\n",
            "313/313 [==============================] - 3s 9ms/step - loss: 0.6873 - accuracy: 0.6364 - val_loss: 0.6846 - val_accuracy: 0.6480\n",
            "Epoch 4/100\n",
            "313/313 [==============================] - 3s 8ms/step - loss: 0.6793 - accuracy: 0.6658 - val_loss: 0.6719 - val_accuracy: 0.6808\n",
            "Epoch 5/100\n",
            "313/313 [==============================] - 3s 8ms/step - loss: 0.6505 - accuracy: 0.7050 - val_loss: 0.6191 - val_accuracy: 0.7264\n",
            "Epoch 6/100\n",
            "313/313 [==============================] - 3s 9ms/step - loss: 0.5940 - accuracy: 0.7254 - val_loss: 0.5794 - val_accuracy: 0.7324\n",
            "Epoch 7/100\n",
            "313/313 [==============================] - 3s 9ms/step - loss: 0.5652 - accuracy: 0.7390 - val_loss: 0.5580 - val_accuracy: 0.7462\n",
            "Epoch 8/100\n",
            "313/313 [==============================] - 3s 9ms/step - loss: 0.5423 - accuracy: 0.7563 - val_loss: 0.5383 - val_accuracy: 0.7572\n",
            "Epoch 9/100\n",
            "313/313 [==============================] - 3s 8ms/step - loss: 0.5234 - accuracy: 0.7671 - val_loss: 0.5215 - val_accuracy: 0.7648\n",
            "Epoch 10/100\n",
            "313/313 [==============================] - 3s 9ms/step - loss: 0.5063 - accuracy: 0.7763 - val_loss: 0.5065 - val_accuracy: 0.7742\n",
            "Epoch 11/100\n",
            "313/313 [==============================] - 3s 9ms/step - loss: 0.4913 - accuracy: 0.7862 - val_loss: 0.4951 - val_accuracy: 0.7794\n",
            "Epoch 12/100\n",
            "313/313 [==============================] - 3s 9ms/step - loss: 0.4789 - accuracy: 0.7896 - val_loss: 0.4831 - val_accuracy: 0.7842\n",
            "Epoch 13/100\n",
            "313/313 [==============================] - 3s 8ms/step - loss: 0.4681 - accuracy: 0.7959 - val_loss: 0.4743 - val_accuracy: 0.7914\n",
            "Epoch 14/100\n",
            "313/313 [==============================] - 3s 9ms/step - loss: 0.4586 - accuracy: 0.7995 - val_loss: 0.4696 - val_accuracy: 0.7888\n",
            "Epoch 15/100\n",
            "313/313 [==============================] - 3s 9ms/step - loss: 0.4506 - accuracy: 0.8024 - val_loss: 0.4623 - val_accuracy: 0.7874\n",
            "Epoch 16/100\n",
            "313/313 [==============================] - 3s 10ms/step - loss: 0.4444 - accuracy: 0.8037 - val_loss: 0.4562 - val_accuracy: 0.7938\n",
            "Epoch 17/100\n",
            "313/313 [==============================] - 3s 8ms/step - loss: 0.4383 - accuracy: 0.8051 - val_loss: 0.4530 - val_accuracy: 0.7940\n",
            "Epoch 18/100\n",
            "313/313 [==============================] - 3s 8ms/step - loss: 0.4344 - accuracy: 0.8075 - val_loss: 0.4490 - val_accuracy: 0.7978\n",
            "Epoch 19/100\n",
            "313/313 [==============================] - 3s 9ms/step - loss: 0.4301 - accuracy: 0.8090 - val_loss: 0.4464 - val_accuracy: 0.7962\n",
            "Epoch 20/100\n",
            "313/313 [==============================] - 3s 9ms/step - loss: 0.4270 - accuracy: 0.8110 - val_loss: 0.4504 - val_accuracy: 0.7950\n",
            "Epoch 21/100\n",
            "313/313 [==============================] - 3s 8ms/step - loss: 0.4247 - accuracy: 0.8114 - val_loss: 0.4460 - val_accuracy: 0.7974\n",
            "Epoch 22/100\n",
            "313/313 [==============================] - 3s 9ms/step - loss: 0.4220 - accuracy: 0.8127 - val_loss: 0.4403 - val_accuracy: 0.7982\n",
            "Epoch 23/100\n",
            "313/313 [==============================] - 3s 9ms/step - loss: 0.4199 - accuracy: 0.8140 - val_loss: 0.4391 - val_accuracy: 0.8014\n",
            "Epoch 24/100\n",
            "313/313 [==============================] - 3s 9ms/step - loss: 0.4181 - accuracy: 0.8144 - val_loss: 0.4396 - val_accuracy: 0.7976\n",
            "Epoch 25/100\n",
            "313/313 [==============================] - 3s 8ms/step - loss: 0.4166 - accuracy: 0.8148 - val_loss: 0.4369 - val_accuracy: 0.7998\n",
            "Epoch 26/100\n",
            "313/313 [==============================] - 3s 8ms/step - loss: 0.4149 - accuracy: 0.8152 - val_loss: 0.4403 - val_accuracy: 0.8002\n",
            "Epoch 27/100\n",
            "313/313 [==============================] - 3s 9ms/step - loss: 0.4134 - accuracy: 0.8162 - val_loss: 0.4343 - val_accuracy: 0.8014\n",
            "Epoch 28/100\n",
            "313/313 [==============================] - 3s 8ms/step - loss: 0.4125 - accuracy: 0.8164 - val_loss: 0.4340 - val_accuracy: 0.8006\n",
            "Epoch 29/100\n",
            "313/313 [==============================] - 4s 12ms/step - loss: 0.4111 - accuracy: 0.8162 - val_loss: 0.4337 - val_accuracy: 0.8022\n",
            "Epoch 30/100\n",
            "313/313 [==============================] - 4s 13ms/step - loss: 0.4101 - accuracy: 0.8163 - val_loss: 0.4358 - val_accuracy: 0.8040\n",
            "Epoch 31/100\n",
            "313/313 [==============================] - 4s 14ms/step - loss: 0.4092 - accuracy: 0.8170 - val_loss: 0.4334 - val_accuracy: 0.7986\n",
            "Epoch 32/100\n",
            "313/313 [==============================] - 3s 11ms/step - loss: 0.4081 - accuracy: 0.8185 - val_loss: 0.4344 - val_accuracy: 0.7988\n",
            "Epoch 33/100\n",
            "313/313 [==============================] - 4s 12ms/step - loss: 0.4065 - accuracy: 0.8180 - val_loss: 0.4305 - val_accuracy: 0.8024\n",
            "Epoch 34/100\n",
            "313/313 [==============================] - 3s 10ms/step - loss: 0.4060 - accuracy: 0.8193 - val_loss: 0.4387 - val_accuracy: 0.7926\n",
            "Epoch 35/100\n",
            "313/313 [==============================] - 3s 11ms/step - loss: 0.4053 - accuracy: 0.8178 - val_loss: 0.4298 - val_accuracy: 0.8048\n",
            "Epoch 36/100\n",
            "313/313 [==============================] - 3s 11ms/step - loss: 0.4043 - accuracy: 0.8181 - val_loss: 0.4280 - val_accuracy: 0.8052\n",
            "Epoch 37/100\n",
            "313/313 [==============================] - 3s 10ms/step - loss: 0.4035 - accuracy: 0.8186 - val_loss: 0.4282 - val_accuracy: 0.8052\n",
            "Epoch 38/100\n",
            "313/313 [==============================] - 3s 10ms/step - loss: 0.4022 - accuracy: 0.8181 - val_loss: 0.4319 - val_accuracy: 0.8006\n",
            "Epoch 39/100\n",
            "313/313 [==============================] - 3s 10ms/step - loss: 0.4020 - accuracy: 0.8189 - val_loss: 0.4267 - val_accuracy: 0.8064\n",
            "Epoch 40/100\n",
            "313/313 [==============================] - 3s 11ms/step - loss: 0.4014 - accuracy: 0.8205 - val_loss: 0.4261 - val_accuracy: 0.8080\n",
            "Epoch 41/100\n",
            "313/313 [==============================] - 3s 10ms/step - loss: 0.4006 - accuracy: 0.8192 - val_loss: 0.4259 - val_accuracy: 0.8078\n",
            "Epoch 42/100\n",
            "313/313 [==============================] - 3s 11ms/step - loss: 0.3998 - accuracy: 0.8191 - val_loss: 0.4305 - val_accuracy: 0.8042\n",
            "Epoch 43/100\n",
            "313/313 [==============================] - 3s 10ms/step - loss: 0.3991 - accuracy: 0.8210 - val_loss: 0.4302 - val_accuracy: 0.8034\n",
            "Epoch 44/100\n",
            "313/313 [==============================] - 3s 10ms/step - loss: 0.3983 - accuracy: 0.8215 - val_loss: 0.4250 - val_accuracy: 0.8078\n",
            "Epoch 45/100\n",
            "313/313 [==============================] - 3s 9ms/step - loss: 0.3978 - accuracy: 0.8212 - val_loss: 0.4256 - val_accuracy: 0.8062\n",
            "Epoch 46/100\n",
            "313/313 [==============================] - 3s 8ms/step - loss: 0.3973 - accuracy: 0.8221 - val_loss: 0.4255 - val_accuracy: 0.8066\n",
            "Epoch 47/100\n",
            "313/313 [==============================] - 3s 8ms/step - loss: 0.3964 - accuracy: 0.8215 - val_loss: 0.4254 - val_accuracy: 0.8082\n"
          ]
        }
      ]
    },
    {
      "cell_type": "code",
      "source": [
        "import matplotlib.pyplot as plt\n",
        "plt.plot(history.history['loss'])\n",
        "plt.plot(history.history['val_loss'])\n",
        "plt.xlabel('epoch')\n",
        "plt.ylabel('loss')\n",
        "plt.legend(['train', 'val'])\n",
        "plt.show()"
      ],
      "metadata": {
        "colab": {
          "base_uri": "https://localhost:8080/",
          "height": 279
        },
        "id": "Q35Z2xEkvk2d",
        "outputId": "e5318497-e8be-4b86-8958-5e3bc8732cb0"
      },
      "execution_count": 6,
      "outputs": [
        {
          "output_type": "display_data",
          "data": {
            "text/plain": [
              "<Figure size 432x288 with 1 Axes>"
            ],
            "image/png": "[encoded data removed]"
          },
          "metadata": {
            "needs_background": "light"
          }
        }
      ]
    },
    {
      "cell_type": "markdown",
      "source": [
        "### 순환층에 dropout 적용하기\n",
        "\n",
        "\n"
      ],
      "metadata": {
        "id": "QUtDy5WG3fmb"
      }
    },
    {
      "cell_type": "code",
      "source": [
        "model2 = keras.Sequential()\n",
        "\n",
        "model2.add(keras.layers.Embedding(500, 16, input_length=100))\n",
        "model2.add(keras.layers.LSTM(8, dropout=0.3))\n",
        "model2.add(keras.layers.Dense(1, activation='sigmoid'))"
      ],
      "metadata": {
        "id": "9rHW8fvNztd9"
      },
      "execution_count": 7,
      "outputs": []
    },
    {
      "cell_type": "code",
      "source": [
        "rmsprop = keras.optimizers.RMSprop(learning_rate=1e-4)\n",
        "model2.compile(optimizer=rmsprop, loss='binary_crossentropy', metrics=['accuracy'])\n",
        "\n",
        "check_p = keras.callbacks.ModelCheckpoint('best-dropout-model.h5', save_best_only=True)\n",
        "early_stop = keras.callbacks.EarlyStopping(patience=3, restore_best_weights=True)\n",
        "history2 = model2.fit(train_seq, train_target, epochs=100, batch_size=64, validation_data=(val_seq, val_target), callbacks=[check_p, early_stop])"
      ],
      "metadata": {
        "colab": {
          "base_uri": "https://localhost:8080/"
        },
        "id": "hGozREIP11QW",
        "outputId": "17516849-3472-45ac-c10c-e9e1c7b294e3"
      },
      "execution_count": 8,
      "outputs": [
        {
          "output_type": "stream",
          "name": "stdout",
          "text": [
            "Epoch 1/100\n",
            "313/313 [==============================] - 5s 10ms/step - loss: 0.6929 - accuracy: 0.5234 - val_loss: 0.6923 - val_accuracy: 0.5790\n",
            "Epoch 2/100\n",
            "313/313 [==============================] - 3s 8ms/step - loss: 0.6912 - accuracy: 0.6004 - val_loss: 0.6901 - val_accuracy: 0.6390\n",
            "Epoch 3/100\n",
            "313/313 [==============================] - 3s 8ms/step - loss: 0.6874 - accuracy: 0.6487 - val_loss: 0.6844 - val_accuracy: 0.6730\n",
            "Epoch 4/100\n",
            "313/313 [==============================] - 3s 8ms/step - loss: 0.6740 - accuracy: 0.6762 - val_loss: 0.6551 - val_accuracy: 0.7074\n",
            "Epoch 5/100\n",
            "313/313 [==============================] - 4s 13ms/step - loss: 0.6186 - accuracy: 0.7104 - val_loss: 0.5923 - val_accuracy: 0.7170\n",
            "Epoch 6/100\n",
            "313/313 [==============================] - 5s 15ms/step - loss: 0.5829 - accuracy: 0.7218 - val_loss: 0.5677 - val_accuracy: 0.7398\n",
            "Epoch 7/100\n",
            "313/313 [==============================] - 3s 11ms/step - loss: 0.5602 - accuracy: 0.7433 - val_loss: 0.5510 - val_accuracy: 0.7502\n",
            "Epoch 8/100\n",
            "313/313 [==============================] - 3s 8ms/step - loss: 0.5400 - accuracy: 0.7566 - val_loss: 0.5304 - val_accuracy: 0.7580\n",
            "Epoch 9/100\n",
            "313/313 [==============================] - 3s 8ms/step - loss: 0.5234 - accuracy: 0.7642 - val_loss: 0.5143 - val_accuracy: 0.7688\n",
            "Epoch 10/100\n",
            "313/313 [==============================] - 3s 8ms/step - loss: 0.5071 - accuracy: 0.7735 - val_loss: 0.5011 - val_accuracy: 0.7732\n",
            "Epoch 11/100\n",
            "313/313 [==============================] - 3s 8ms/step - loss: 0.4937 - accuracy: 0.7796 - val_loss: 0.4898 - val_accuracy: 0.7812\n",
            "Epoch 12/100\n",
            "313/313 [==============================] - 3s 8ms/step - loss: 0.4854 - accuracy: 0.7831 - val_loss: 0.4869 - val_accuracy: 0.7746\n",
            "Epoch 13/100\n",
            "313/313 [==============================] - 3s 8ms/step - loss: 0.4766 - accuracy: 0.7868 - val_loss: 0.4753 - val_accuracy: 0.7880\n",
            "Epoch 14/100\n",
            "313/313 [==============================] - 3s 8ms/step - loss: 0.4691 - accuracy: 0.7918 - val_loss: 0.4703 - val_accuracy: 0.7874\n",
            "Epoch 15/100\n",
            "313/313 [==============================] - 3s 9ms/step - loss: 0.4632 - accuracy: 0.7921 - val_loss: 0.4662 - val_accuracy: 0.7894\n",
            "Epoch 16/100\n",
            "313/313 [==============================] - 3s 8ms/step - loss: 0.4596 - accuracy: 0.7951 - val_loss: 0.4620 - val_accuracy: 0.7920\n",
            "Epoch 17/100\n",
            "313/313 [==============================] - 3s 8ms/step - loss: 0.4539 - accuracy: 0.7940 - val_loss: 0.4596 - val_accuracy: 0.7900\n",
            "Epoch 18/100\n",
            "313/313 [==============================] - 3s 10ms/step - loss: 0.4504 - accuracy: 0.7964 - val_loss: 0.4550 - val_accuracy: 0.7938\n",
            "Epoch 19/100\n",
            "313/313 [==============================] - 3s 9ms/step - loss: 0.4465 - accuracy: 0.8012 - val_loss: 0.4527 - val_accuracy: 0.7930\n",
            "Epoch 20/100\n",
            "313/313 [==============================] - 3s 8ms/step - loss: 0.4441 - accuracy: 0.8004 - val_loss: 0.4506 - val_accuracy: 0.7932\n",
            "Epoch 21/100\n",
            "313/313 [==============================] - 3s 8ms/step - loss: 0.4420 - accuracy: 0.7988 - val_loss: 0.4490 - val_accuracy: 0.7936\n",
            "Epoch 22/100\n",
            "313/313 [==============================] - 3s 8ms/step - loss: 0.4380 - accuracy: 0.8016 - val_loss: 0.4472 - val_accuracy: 0.7944\n",
            "Epoch 23/100\n",
            "313/313 [==============================] - 3s 10ms/step - loss: 0.4368 - accuracy: 0.8045 - val_loss: 0.4451 - val_accuracy: 0.7960\n",
            "Epoch 24/100\n",
            "313/313 [==============================] - 3s 9ms/step - loss: 0.4344 - accuracy: 0.8049 - val_loss: 0.4490 - val_accuracy: 0.7922\n",
            "Epoch 25/100\n",
            "313/313 [==============================] - 3s 8ms/step - loss: 0.4323 - accuracy: 0.8049 - val_loss: 0.4434 - val_accuracy: 0.7952\n",
            "Epoch 26/100\n",
            "313/313 [==============================] - 3s 9ms/step - loss: 0.4302 - accuracy: 0.8056 - val_loss: 0.4417 - val_accuracy: 0.7946\n",
            "Epoch 27/100\n",
            "313/313 [==============================] - 3s 8ms/step - loss: 0.4292 - accuracy: 0.8055 - val_loss: 0.4412 - val_accuracy: 0.7950\n",
            "Epoch 28/100\n",
            "313/313 [==============================] - 3s 8ms/step - loss: 0.4286 - accuracy: 0.8062 - val_loss: 0.4396 - val_accuracy: 0.7968\n",
            "Epoch 29/100\n",
            "313/313 [==============================] - 3s 8ms/step - loss: 0.4270 - accuracy: 0.8062 - val_loss: 0.4390 - val_accuracy: 0.7958\n",
            "Epoch 30/100\n",
            "313/313 [==============================] - 3s 8ms/step - loss: 0.4249 - accuracy: 0.8073 - val_loss: 0.4392 - val_accuracy: 0.8000\n",
            "Epoch 31/100\n",
            "313/313 [==============================] - 3s 10ms/step - loss: 0.4245 - accuracy: 0.8074 - val_loss: 0.4380 - val_accuracy: 0.7944\n",
            "Epoch 32/100\n",
            "313/313 [==============================] - 3s 9ms/step - loss: 0.4221 - accuracy: 0.8092 - val_loss: 0.4380 - val_accuracy: 0.7950\n",
            "Epoch 33/100\n",
            "313/313 [==============================] - 3s 8ms/step - loss: 0.4216 - accuracy: 0.8099 - val_loss: 0.4367 - val_accuracy: 0.7970\n",
            "Epoch 34/100\n",
            "313/313 [==============================] - 3s 8ms/step - loss: 0.4192 - accuracy: 0.8107 - val_loss: 0.4372 - val_accuracy: 0.7980\n",
            "Epoch 35/100\n",
            "313/313 [==============================] - 3s 8ms/step - loss: 0.4206 - accuracy: 0.8090 - val_loss: 0.4353 - val_accuracy: 0.7958\n",
            "Epoch 36/100\n",
            "313/313 [==============================] - 3s 8ms/step - loss: 0.4203 - accuracy: 0.8083 - val_loss: 0.4373 - val_accuracy: 0.8030\n",
            "Epoch 37/100\n",
            "313/313 [==============================] - 3s 8ms/step - loss: 0.4185 - accuracy: 0.8099 - val_loss: 0.4344 - val_accuracy: 0.7988\n",
            "Epoch 38/100\n",
            "313/313 [==============================] - 3s 9ms/step - loss: 0.4179 - accuracy: 0.8110 - val_loss: 0.4353 - val_accuracy: 0.7978\n",
            "Epoch 39/100\n",
            "313/313 [==============================] - 3s 8ms/step - loss: 0.4166 - accuracy: 0.8098 - val_loss: 0.4360 - val_accuracy: 0.8040\n",
            "Epoch 40/100\n",
            "313/313 [==============================] - 3s 8ms/step - loss: 0.4172 - accuracy: 0.8100 - val_loss: 0.4338 - val_accuracy: 0.7998\n",
            "Epoch 41/100\n",
            "313/313 [==============================] - 3s 9ms/step - loss: 0.4156 - accuracy: 0.8115 - val_loss: 0.4330 - val_accuracy: 0.8012\n",
            "Epoch 42/100\n",
            "313/313 [==============================] - 3s 8ms/step - loss: 0.4154 - accuracy: 0.8094 - val_loss: 0.4333 - val_accuracy: 0.8002\n",
            "Epoch 43/100\n",
            "313/313 [==============================] - 3s 8ms/step - loss: 0.4134 - accuracy: 0.8126 - val_loss: 0.4367 - val_accuracy: 0.7968\n",
            "Epoch 44/100\n",
            "313/313 [==============================] - 3s 8ms/step - loss: 0.4131 - accuracy: 0.8113 - val_loss: 0.4332 - val_accuracy: 0.8010\n"
          ]
        }
      ]
    },
    {
      "cell_type": "code",
      "source": [
        "plt.plot(history2.history['loss'])\n",
        "plt.plot(history2.history['val_loss'])\n",
        "plt.xlabel('epoch')\n",
        "plt.ylabel('loss')\n",
        "plt.legend(['train', 'val'])\n",
        "plt.show()"
      ],
      "metadata": {
        "colab": {
          "base_uri": "https://localhost:8080/",
          "height": 279
        },
        "id": "7g3u-RRg2Nu8",
        "outputId": "eda45eef-58f8-4f6b-d63e-f23c8ee5be08"
      },
      "execution_count": 9,
      "outputs": [
        {
          "output_type": "display_data",
          "data": {
            "text/plain": [
              "<Figure size 432x288 with 1 Axes>"
            ],
            "image/png": "[encoded data removed]"
          },
          "metadata": {
            "needs_background": "light"
          }
        }
      ]
    },
    {
      "cell_type": "markdown",
      "source": [
        "### 2개의 층을 연결하기\n"
      ],
      "metadata": {
        "id": "x2YfXA1o3Gl9"
      }
    },
    {
      "cell_type": "code",
      "source": [
        "model3 = keras.Sequential()\n",
        "\n",
        "model3.add(keras.layers.Embedding(500, 16, input_length=100))\n",
        "model3.add(keras.layers.LSTM(8, dropout=0.3, return_sequences=True))\n",
        "model3.add(keras.layers.LSTM(8, dropout=0.3))\n",
        "model3.add(keras.layers.Dense(1, activation='sigmoid'))"
      ],
      "metadata": {
        "id": "NC0Xq8w83Cte"
      },
      "execution_count": 10,
      "outputs": []
    },
    {
      "cell_type": "code",
      "source": [
        "model3.summary()"
      ],
      "metadata": {
        "colab": {
          "base_uri": "https://localhost:8080/"
        },
        "id": "AKamFkLW3atb",
        "outputId": "ed59a087-32a8-4b29-c9ed-b530f82911da"
      },
      "execution_count": 11,
      "outputs": [
        {
          "output_type": "stream",
          "name": "stdout",
          "text": [
            "Model: \"sequential_2\"\n",
            "_________________________________________________________________\n",
            " Layer (type)                Output Shape              Param #   \n",
            "=================================================================\n",
            " embedding_2 (Embedding)     (None, 100, 16)           8000      \n",
            "                                                                 \n",
            " lstm_2 (LSTM)               (None, 100, 8)            800       \n",
            "                                                                 \n",
            " lstm_3 (LSTM)               (None, 8)                 544       \n",
            "                                                                 \n",
            " dense_2 (Dense)             (None, 1)                 9         \n",
            "                                                                 \n",
            "=================================================================\n",
            "Total params: 9,353\n",
            "Trainable params: 9,353\n",
            "Non-trainable params: 0\n",
            "_________________________________________________________________\n"
          ]
        }
      ]
    },
    {
      "cell_type": "code",
      "source": [
        "rmsprop = keras.optimizers.RMSprop(learning_rate=1e-4)\n",
        "model3.compile(optimizer=rmsprop, loss='binary_crossentropy', metrics=['accuracy'])\n",
        "\n",
        "check_p = keras.callbacks.ModelCheckpoint('best-2rnn-model.h5', save_best_only=True)\n",
        "early_stop = keras.callbacks.EarlyStopping(patience=3, restore_best_weights=True)\n",
        "history3 = model3.fit(train_seq, train_target, epochs=100, batch_size=64, validation_data=(val_seq, val_target), callbacks=[check_p, early_stop])"
      ],
      "metadata": {
        "colab": {
          "base_uri": "https://localhost:8080/"
        },
        "id": "ON8pEFRk3dlt",
        "outputId": "c4de2d0b-2dd4-4568-d8ea-f9319fcc2331"
      },
      "execution_count": 12,
      "outputs": [
        {
          "output_type": "stream",
          "name": "stdout",
          "text": [
            "Epoch 1/100\n",
            "313/313 [==============================] - 7s 15ms/step - loss: 0.6924 - accuracy: 0.5391 - val_loss: 0.6916 - val_accuracy: 0.5780\n",
            "Epoch 2/100\n",
            "313/313 [==============================] - 4s 12ms/step - loss: 0.6884 - accuracy: 0.6109 - val_loss: 0.6843 - val_accuracy: 0.6446\n",
            "Epoch 3/100\n",
            "313/313 [==============================] - 4s 13ms/step - loss: 0.6663 - accuracy: 0.6607 - val_loss: 0.6394 - val_accuracy: 0.6708\n",
            "Epoch 4/100\n",
            "313/313 [==============================] - 4s 12ms/step - loss: 0.5883 - accuracy: 0.7095 - val_loss: 0.5636 - val_accuracy: 0.7214\n",
            "Epoch 5/100\n",
            "313/313 [==============================] - 4s 13ms/step - loss: 0.5444 - accuracy: 0.7318 - val_loss: 0.5329 - val_accuracy: 0.7356\n",
            "Epoch 6/100\n",
            "313/313 [==============================] - 4s 13ms/step - loss: 0.5198 - accuracy: 0.7484 - val_loss: 0.5104 - val_accuracy: 0.7514\n",
            "Epoch 7/100\n",
            "313/313 [==============================] - 4s 13ms/step - loss: 0.5028 - accuracy: 0.7613 - val_loss: 0.5008 - val_accuracy: 0.7550\n",
            "Epoch 8/100\n",
            "313/313 [==============================] - 4s 13ms/step - loss: 0.4897 - accuracy: 0.7701 - val_loss: 0.4817 - val_accuracy: 0.7700\n",
            "Epoch 9/100\n",
            "313/313 [==============================] - 4s 13ms/step - loss: 0.4816 - accuracy: 0.7749 - val_loss: 0.4793 - val_accuracy: 0.7714\n",
            "Epoch 10/100\n",
            "313/313 [==============================] - 4s 13ms/step - loss: 0.4726 - accuracy: 0.7794 - val_loss: 0.4733 - val_accuracy: 0.7774\n",
            "Epoch 11/100\n",
            "313/313 [==============================] - 4s 13ms/step - loss: 0.4638 - accuracy: 0.7865 - val_loss: 0.4646 - val_accuracy: 0.7832\n",
            "Epoch 12/100\n",
            "313/313 [==============================] - 4s 12ms/step - loss: 0.4623 - accuracy: 0.7861 - val_loss: 0.4671 - val_accuracy: 0.7784\n",
            "Epoch 13/100\n",
            "313/313 [==============================] - 4s 13ms/step - loss: 0.4581 - accuracy: 0.7883 - val_loss: 0.4572 - val_accuracy: 0.7856\n",
            "Epoch 14/100\n",
            "313/313 [==============================] - 4s 12ms/step - loss: 0.4518 - accuracy: 0.7932 - val_loss: 0.4620 - val_accuracy: 0.7820\n",
            "Epoch 15/100\n",
            "313/313 [==============================] - 4s 13ms/step - loss: 0.4500 - accuracy: 0.7929 - val_loss: 0.4533 - val_accuracy: 0.7882\n",
            "Epoch 16/100\n",
            "313/313 [==============================] - 4s 13ms/step - loss: 0.4474 - accuracy: 0.7953 - val_loss: 0.4556 - val_accuracy: 0.7850\n",
            "Epoch 17/100\n",
            "313/313 [==============================] - 4s 13ms/step - loss: 0.4471 - accuracy: 0.7936 - val_loss: 0.4512 - val_accuracy: 0.7870\n",
            "Epoch 18/100\n",
            "313/313 [==============================] - 4s 14ms/step - loss: 0.4425 - accuracy: 0.7966 - val_loss: 0.4495 - val_accuracy: 0.7894\n",
            "Epoch 19/100\n",
            "313/313 [==============================] - 4s 13ms/step - loss: 0.4402 - accuracy: 0.7965 - val_loss: 0.4469 - val_accuracy: 0.7914\n",
            "Epoch 20/100\n",
            "313/313 [==============================] - 4s 14ms/step - loss: 0.4428 - accuracy: 0.7966 - val_loss: 0.4458 - val_accuracy: 0.7938\n",
            "Epoch 21/100\n",
            "313/313 [==============================] - 4s 13ms/step - loss: 0.4389 - accuracy: 0.7998 - val_loss: 0.4476 - val_accuracy: 0.7874\n",
            "Epoch 22/100\n",
            "313/313 [==============================] - 4s 13ms/step - loss: 0.4370 - accuracy: 0.7981 - val_loss: 0.4435 - val_accuracy: 0.7948\n",
            "Epoch 23/100\n",
            "313/313 [==============================] - 4s 13ms/step - loss: 0.4355 - accuracy: 0.7995 - val_loss: 0.4421 - val_accuracy: 0.7932\n",
            "Epoch 24/100\n",
            "313/313 [==============================] - 4s 13ms/step - loss: 0.4346 - accuracy: 0.8012 - val_loss: 0.4499 - val_accuracy: 0.7926\n",
            "Epoch 25/100\n",
            "313/313 [==============================] - 4s 13ms/step - loss: 0.4339 - accuracy: 0.8009 - val_loss: 0.4412 - val_accuracy: 0.7928\n",
            "Epoch 26/100\n",
            "313/313 [==============================] - 4s 13ms/step - loss: 0.4319 - accuracy: 0.8019 - val_loss: 0.4395 - val_accuracy: 0.7946\n",
            "Epoch 27/100\n",
            "313/313 [==============================] - 4s 12ms/step - loss: 0.4307 - accuracy: 0.8047 - val_loss: 0.4393 - val_accuracy: 0.7936\n",
            "Epoch 28/100\n",
            "313/313 [==============================] - 4s 12ms/step - loss: 0.4299 - accuracy: 0.8039 - val_loss: 0.4395 - val_accuracy: 0.7936\n",
            "Epoch 29/100\n",
            "313/313 [==============================] - 4s 12ms/step - loss: 0.4294 - accuracy: 0.8049 - val_loss: 0.4412 - val_accuracy: 0.7978\n",
            "Epoch 30/100\n",
            "313/313 [==============================] - 4s 12ms/step - loss: 0.4283 - accuracy: 0.8035 - val_loss: 0.4365 - val_accuracy: 0.7976\n",
            "Epoch 31/100\n",
            "313/313 [==============================] - 4s 12ms/step - loss: 0.4269 - accuracy: 0.8063 - val_loss: 0.4399 - val_accuracy: 0.7898\n",
            "Epoch 32/100\n",
            "313/313 [==============================] - 4s 13ms/step - loss: 0.4260 - accuracy: 0.8067 - val_loss: 0.4357 - val_accuracy: 0.7966\n",
            "Epoch 33/100\n",
            "313/313 [==============================] - 4s 13ms/step - loss: 0.4250 - accuracy: 0.8070 - val_loss: 0.4344 - val_accuracy: 0.7988\n",
            "Epoch 34/100\n",
            "313/313 [==============================] - 4s 13ms/step - loss: 0.4253 - accuracy: 0.8069 - val_loss: 0.4448 - val_accuracy: 0.7988\n",
            "Epoch 35/100\n",
            "313/313 [==============================] - 4s 13ms/step - loss: 0.4214 - accuracy: 0.8083 - val_loss: 0.4332 - val_accuracy: 0.7980\n",
            "Epoch 36/100\n",
            "313/313 [==============================] - 5s 15ms/step - loss: 0.4216 - accuracy: 0.8080 - val_loss: 0.4326 - val_accuracy: 0.8012\n",
            "Epoch 37/100\n",
            "313/313 [==============================] - 4s 13ms/step - loss: 0.4203 - accuracy: 0.8080 - val_loss: 0.4320 - val_accuracy: 0.8018\n",
            "Epoch 38/100\n",
            "313/313 [==============================] - 4s 14ms/step - loss: 0.4205 - accuracy: 0.8079 - val_loss: 0.4313 - val_accuracy: 0.8032\n",
            "Epoch 39/100\n",
            "313/313 [==============================] - 4s 13ms/step - loss: 0.4183 - accuracy: 0.8097 - val_loss: 0.4308 - val_accuracy: 0.7996\n",
            "Epoch 40/100\n",
            "313/313 [==============================] - 4s 12ms/step - loss: 0.4174 - accuracy: 0.8094 - val_loss: 0.4312 - val_accuracy: 0.7974\n",
            "Epoch 41/100\n",
            "313/313 [==============================] - 4s 13ms/step - loss: 0.4175 - accuracy: 0.8089 - val_loss: 0.4306 - val_accuracy: 0.8062\n",
            "Epoch 42/100\n",
            "313/313 [==============================] - 4s 12ms/step - loss: 0.4175 - accuracy: 0.8088 - val_loss: 0.4289 - val_accuracy: 0.8030\n",
            "Epoch 43/100\n",
            "313/313 [==============================] - 4s 12ms/step - loss: 0.4151 - accuracy: 0.8087 - val_loss: 0.4315 - val_accuracy: 0.8046\n",
            "Epoch 44/100\n",
            "313/313 [==============================] - 4s 12ms/step - loss: 0.4156 - accuracy: 0.8120 - val_loss: 0.4281 - val_accuracy: 0.8024\n",
            "Epoch 45/100\n",
            "313/313 [==============================] - 4s 12ms/step - loss: 0.4116 - accuracy: 0.8122 - val_loss: 0.4271 - val_accuracy: 0.8056\n",
            "Epoch 46/100\n",
            "313/313 [==============================] - 4s 12ms/step - loss: 0.4128 - accuracy: 0.8111 - val_loss: 0.4278 - val_accuracy: 0.8016\n",
            "Epoch 47/100\n",
            "313/313 [==============================] - 4s 12ms/step - loss: 0.4139 - accuracy: 0.8117 - val_loss: 0.4298 - val_accuracy: 0.8062\n",
            "Epoch 48/100\n",
            "313/313 [==============================] - 4s 12ms/step - loss: 0.4122 - accuracy: 0.8090 - val_loss: 0.4275 - val_accuracy: 0.8062\n"
          ]
        }
      ]
    },
    {
      "cell_type": "code",
      "source": [
        "plt.plot(history3.history['loss'])\n",
        "plt.plot(history3.history['val_loss'])\n",
        "plt.xlabel('epoch')\n",
        "plt.ylabel('loss')\n",
        "plt.legend(['train', 'val'])\n",
        "plt.show()"
      ],
      "metadata": {
        "colab": {
          "base_uri": "https://localhost:8080/",
          "height": 279
        },
        "id": "qfdgp6ol7QSZ",
        "outputId": "992e8e35-10f2-4cdc-e413-df6ab0770bcc"
      },
      "execution_count": 13,
      "outputs": [
        {
          "output_type": "display_data",
          "data": {
            "text/plain": [
              "<Figure size 432x288 with 1 Axes>"
            ],
            "image/png": "[encoded data removed]"
          },
          "metadata": {
            "needs_background": "light"
          }
        }
      ]
    },
    {
      "cell_type": "markdown",
      "source": [
        "## GRU 신경망 훈련하기\n",
        "\n",
        "GRU 구조\n",
        "1. Grated Recurrent Unit (GRU)"
      ],
      "metadata": {
        "id": "mF4hEV2Q9A1t"
      }
    },
    {
      "cell_type": "code",
      "source": [
        "model4 = keras.Sequential()\n",
        "\n",
        "model4.add(keras.layers.Embedding(500, 16, input_length=100))\n",
        "model4.add(keras.layers.GRU(8))\n",
        "model4.add(keras.layers.Dense(1, activation='sigmoid'))"
      ],
      "metadata": {
        "id": "9FwOFjG59AIl"
      },
      "execution_count": 14,
      "outputs": []
    },
    {
      "cell_type": "code",
      "source": [
        "model.summary()"
      ],
      "metadata": {
        "colab": {
          "base_uri": "https://localhost:8080/"
        },
        "id": "4Zo3ocIdAN-1",
        "outputId": "4801c231-33e3-47e8-b4ac-6a9e127121db"
      },
      "execution_count": 15,
      "outputs": [
        {
          "output_type": "stream",
          "name": "stdout",
          "text": [
            "Model: \"sequential\"\n",
            "_________________________________________________________________\n",
            " Layer (type)                Output Shape              Param #   \n",
            "=================================================================\n",
            " embedding (Embedding)       (None, 100, 16)           8000      \n",
            "                                                                 \n",
            " lstm (LSTM)                 (None, 8)                 800       \n",
            "                                                                 \n",
            " dense (Dense)               (None, 1)                 9         \n",
            "                                                                 \n",
            "=================================================================\n",
            "Total params: 8,809\n",
            "Trainable params: 8,809\n",
            "Non-trainable params: 0\n",
            "_________________________________________________________________\n"
          ]
        }
      ]
    },
    {
      "cell_type": "code",
      "source": [
        "rmsprop = keras.optimizers.RMSprop(learning_rate=1e-4)\n",
        "model4.compile(optimizer=rmsprop, loss='binary_crossentropy', metrics=['accuracy'])\n",
        "\n",
        "check_p = keras.callbacks.ModelCheckpoint('best-gru-model.h5', save_best_only=True)\n",
        "early_stop = keras.callbacks.EarlyStopping(patience=3, restore_best_weights=True)\n",
        "history4 = model4.fit(train_seq, train_target, epochs=100, batch_size=64, validation_data=(val_seq, val_target), callbacks=[check_p, early_stop])"
      ],
      "metadata": {
        "colab": {
          "base_uri": "https://localhost:8080/"
        },
        "id": "cRlw28ZRAQcA",
        "outputId": "618daf6a-f647-4e84-f45f-ce2d91155ac7"
      },
      "execution_count": 16,
      "outputs": [
        {
          "output_type": "stream",
          "name": "stdout",
          "text": [
            "Epoch 1/100\n",
            "313/313 [==============================] - 4s 9ms/step - loss: 0.6924 - accuracy: 0.5189 - val_loss: 0.6915 - val_accuracy: 0.5224\n",
            "Epoch 2/100\n",
            "313/313 [==============================] - 3s 9ms/step - loss: 0.6902 - accuracy: 0.5437 - val_loss: 0.6891 - val_accuracy: 0.5464\n",
            "Epoch 3/100\n",
            "313/313 [==============================] - 3s 11ms/step - loss: 0.6869 - accuracy: 0.5716 - val_loss: 0.6854 - val_accuracy: 0.5632\n",
            "Epoch 4/100\n",
            "313/313 [==============================] - 3s 8ms/step - loss: 0.6819 - accuracy: 0.5884 - val_loss: 0.6799 - val_accuracy: 0.5900\n",
            "Epoch 5/100\n",
            "313/313 [==============================] - 2s 8ms/step - loss: 0.6748 - accuracy: 0.6045 - val_loss: 0.6725 - val_accuracy: 0.6006\n",
            "Epoch 6/100\n",
            "313/313 [==============================] - 4s 12ms/step - loss: 0.6649 - accuracy: 0.6245 - val_loss: 0.6625 - val_accuracy: 0.6134\n",
            "Epoch 7/100\n",
            "313/313 [==============================] - 3s 8ms/step - loss: 0.6514 - accuracy: 0.6363 - val_loss: 0.6482 - val_accuracy: 0.6328\n",
            "Epoch 8/100\n",
            "313/313 [==============================] - 3s 8ms/step - loss: 0.6330 - accuracy: 0.6511 - val_loss: 0.6288 - val_accuracy: 0.6478\n",
            "Epoch 9/100\n",
            "313/313 [==============================] - 3s 8ms/step - loss: 0.6073 - accuracy: 0.6738 - val_loss: 0.5997 - val_accuracy: 0.6766\n",
            "Epoch 10/100\n",
            "313/313 [==============================] - 3s 9ms/step - loss: 0.5670 - accuracy: 0.7060 - val_loss: 0.5535 - val_accuracy: 0.7170\n",
            "Epoch 11/100\n",
            "313/313 [==============================] - 3s 8ms/step - loss: 0.5093 - accuracy: 0.7509 - val_loss: 0.5043 - val_accuracy: 0.7512\n",
            "Epoch 12/100\n",
            "313/313 [==============================] - 3s 8ms/step - loss: 0.4813 - accuracy: 0.7715 - val_loss: 0.4878 - val_accuracy: 0.7658\n",
            "Epoch 13/100\n",
            "313/313 [==============================] - 3s 8ms/step - loss: 0.4660 - accuracy: 0.7814 - val_loss: 0.4746 - val_accuracy: 0.7760\n",
            "Epoch 14/100\n",
            "313/313 [==============================] - 3s 8ms/step - loss: 0.4549 - accuracy: 0.7896 - val_loss: 0.4699 - val_accuracy: 0.7800\n",
            "Epoch 15/100\n",
            "313/313 [==============================] - 3s 8ms/step - loss: 0.4467 - accuracy: 0.7945 - val_loss: 0.4593 - val_accuracy: 0.7852\n",
            "Epoch 16/100\n",
            "313/313 [==============================] - 3s 8ms/step - loss: 0.4405 - accuracy: 0.8005 - val_loss: 0.4547 - val_accuracy: 0.7888\n",
            "Epoch 17/100\n",
            "313/313 [==============================] - 3s 8ms/step - loss: 0.4353 - accuracy: 0.8029 - val_loss: 0.4516 - val_accuracy: 0.7920\n",
            "Epoch 18/100\n",
            "313/313 [==============================] - 3s 8ms/step - loss: 0.4318 - accuracy: 0.8059 - val_loss: 0.4498 - val_accuracy: 0.7918\n",
            "Epoch 19/100\n",
            "313/313 [==============================] - 2s 8ms/step - loss: 0.4286 - accuracy: 0.8085 - val_loss: 0.4474 - val_accuracy: 0.7906\n",
            "Epoch 20/100\n",
            "313/313 [==============================] - 3s 9ms/step - loss: 0.4265 - accuracy: 0.8094 - val_loss: 0.4468 - val_accuracy: 0.7948\n",
            "Epoch 21/100\n",
            "313/313 [==============================] - 3s 10ms/step - loss: 0.4244 - accuracy: 0.8107 - val_loss: 0.4474 - val_accuracy: 0.7948\n",
            "Epoch 22/100\n",
            "313/313 [==============================] - 3s 9ms/step - loss: 0.4227 - accuracy: 0.8110 - val_loss: 0.4438 - val_accuracy: 0.7948\n",
            "Epoch 23/100\n",
            "313/313 [==============================] - 3s 8ms/step - loss: 0.4213 - accuracy: 0.8130 - val_loss: 0.4449 - val_accuracy: 0.7900\n",
            "Epoch 24/100\n",
            "313/313 [==============================] - 3s 8ms/step - loss: 0.4199 - accuracy: 0.8128 - val_loss: 0.4451 - val_accuracy: 0.7900\n",
            "Epoch 25/100\n",
            "313/313 [==============================] - 2s 8ms/step - loss: 0.4196 - accuracy: 0.8126 - val_loss: 0.4451 - val_accuracy: 0.7936\n"
          ]
        }
      ]
    },
    {
      "cell_type": "code",
      "source": [
        "plt.plot(history4.history['loss'])\n",
        "plt.plot(history4.history['val_loss'])\n",
        "plt.xlabel('epoch')\n",
        "plt.ylabel('loss')\n",
        "plt.legend(['train', 'val'])\n",
        "plt.show()"
      ],
      "metadata": {
        "colab": {
          "base_uri": "https://localhost:8080/",
          "height": 279
        },
        "id": "17AzlLxNAhjN",
        "outputId": "17f9d50b-6f0d-41de-b0ab-9cb151e6e2da"
      },
      "execution_count": 17,
      "outputs": [
        {
          "output_type": "display_data",
          "data": {
            "text/plain": [
              "<Figure size 432x288 with 1 Axes>"
            ],
            "image/png": "[encoded data removed]"
          },
          "metadata": {
            "needs_background": "light"
          }
        }
      ]
    }
  ]
}